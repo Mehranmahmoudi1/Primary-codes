{
  "nbformat": 4,
  "nbformat_minor": 0,
  "metadata": {
    "colab": {
      "provenance": [],
      "authorship_tag": "ABX9TyMr3LhhJLQtFF33C7hll3wV",
      "include_colab_link": true
    },
    "kernelspec": {
      "name": "python3",
      "display_name": "Python 3"
    },
    "language_info": {
      "name": "python"
    }
  },
  "cells": [
    {
      "cell_type": "markdown",
      "metadata": {
        "id": "view-in-github",
        "colab_type": "text"
      },
      "source": [
        "<a href=\"https://colab.research.google.com/github/Mehranmahmoudi1/Primary-codes/blob/main/user%20input.ipynb\" target=\"_parent\"><img src=\"https://colab.research.google.com/assets/colab-badge.svg\" alt=\"Open In Colab\"/></a>"
      ]
    },
    {
      "cell_type": "code",
      "execution_count": 6,
      "metadata": {
        "colab": {
          "base_uri": "https://localhost:8080/"
        },
        "id": "xpHnqBf09Ea7",
        "outputId": "8db04d12-3a9e-48ba-98fd-68c9d2483292"
      },
      "outputs": [
        {
          "output_type": "stream",
          "name": "stdout",
          "text": [
            "Enter username:Mehran\n",
            "Username is: Mehran\n"
          ]
        }
      ],
      "source": [
        "username = input(\"Enter username:\")\n",
        "\n",
        "print(\"Username is: \" + username)"
      ]
    }
  ]
}