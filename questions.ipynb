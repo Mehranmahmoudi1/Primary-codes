{
  "nbformat": 4,
  "nbformat_minor": 0,
  "metadata": {
    "colab": {
      "provenance": [],
      "authorship_tag": "ABX9TyMXZZdhZptVjkq2R7RFWUT7",
      "include_colab_link": true
    },
    "kernelspec": {
      "name": "python3",
      "display_name": "Python 3"
    },
    "language_info": {
      "name": "python"
    }
  },
  "cells": [
    {
      "cell_type": "markdown",
      "metadata": {
        "id": "view-in-github",
        "colab_type": "text"
      },
      "source": [
        "<a href=\"https://colab.research.google.com/github/Mehranmahmoudi1/Primary-codes/blob/main/questions.ipynb\" target=\"_parent\"><img src=\"https://colab.research.google.com/assets/colab-badge.svg\" alt=\"Open In Colab\"/></a>"
      ]
    },
    {
      "cell_type": "code",
      "execution_count": 5,
      "metadata": {
        "id": "vm4k0G3d-qul"
      },
      "outputs": [],
      "source": [
        "class car:\n",
        "    def __init__(self, model, color):\n",
        "        self.model = mode\n",
        "        self.color = color\n",
        "def __str__(self):\n",
        "   return f\"model: {self.model},color : {self.color}\""
      ]
    }
  ]
}