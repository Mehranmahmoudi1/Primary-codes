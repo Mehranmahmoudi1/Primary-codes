{
  "nbformat": 4,
  "nbformat_minor": 0,
  "metadata": {
    "colab": {
      "provenance": [],
      "authorship_tag": "ABX9TyMskBxK3GlWjCB1zGFGM5DN",
      "include_colab_link": true
    },
    "kernelspec": {
      "name": "python3",
      "display_name": "Python 3"
    },
    "language_info": {
      "name": "python"
    }
  },
  "cells": [
    {
      "cell_type": "markdown",
      "metadata": {
        "id": "view-in-github",
        "colab_type": "text"
      },
      "source": [
        "<a href=\"https://colab.research.google.com/github/Mehranmahmoudi1/Primary-codes/blob/main/calculator.ipynb\" target=\"_parent\"><img src=\"https://colab.research.google.com/assets/colab-badge.svg\" alt=\"Open In Colab\"/></a>"
      ]
    },
    {
      "cell_type": "code",
      "execution_count": null,
      "metadata": {
        "colab": {
          "base_uri": "https://localhost:8080/"
        },
        "id": "e1Yzi7ZDvwfy",
        "outputId": "2a198d01-d26e-4c69-da9b-315cb070729a"
      },
      "outputs": [
        {
          "output_type": "stream",
          "name": "stdout",
          "text": [
            "Enter first number: 2\n",
            "Enter operator (+, -, *, /): *\n",
            "Enter second number: 2\n",
            "4.0\n",
            "Enter first number: 7\n",
            "Enter operator (+, -, *, /): *\n",
            "Enter second number: 8\n",
            "56.0\n"
          ]
        }
      ],
      "source": [
        "\n",
        "while True:\n",
        "    num1 = float(input(\"Enter first number: \"))\n",
        "    operator = input(\"Enter operator (+, -, *, /): \")\n",
        "    num2 = float(input(\"Enter second number: \"))\n",
        "\n",
        "    if operator == \"+\":\n",
        "        print(num1 + num2)\n",
        "    elif operator == \"-\":\n",
        "        print(num1 - num2)\n",
        "    elif operator == \"*\":\n",
        "        print(num1 * num2)\n",
        "    elif operator == \"/\":\n",
        "        if num2 != 0:\n",
        "            print(num1 / num2)\n",
        "        else:\n",
        "            print(\"Cannot divide by zero.\")\n",
        "    else:\n",
        "        print(\"Invalid operator.\")"
      ]
    }
  ]
}